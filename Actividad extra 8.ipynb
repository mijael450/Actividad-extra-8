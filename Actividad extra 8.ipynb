{
 "cells": [
  {
   "cell_type": "markdown",
   "metadata": {},
   "source": [
    "# Actividad extracurricular 8 \n",
    "## Nombre: Mijael Molina"
   ]
  },
  {
   "cell_type": "code",
   "execution_count": 1,
   "metadata": {},
   "outputs": [
    {
     "name": "stdout",
     "output_type": "stream",
     "text": [
      "Ángulo (radianes): 0.9272952180016122\n",
      "Ángulo (grados): 53.13010235415598\n"
     ]
    }
   ],
   "source": [
    "import math\n",
    "#Determinar el ángulo de un punto en el plano cartesiano\n",
    "# Coordenadas del punto\n",
    "x = 3\n",
    "y = 4\n",
    "\n",
    "# Ángulo en radianes\n",
    "angle = math.atan2(y, x)\n",
    "print(f\"Ángulo (radianes): {angle}\")  \n",
    "\n",
    "# Convertir a grados\n",
    "angle_degrees = math.degrees(angle)\n",
    "print(f\"Ángulo (grados): {angle_degrees}\")  \n"
   ]
  },
  {
   "cell_type": "code",
   "execution_count": 2,
   "metadata": {},
   "outputs": [
    {
     "name": "stdout",
     "output_type": "stream",
     "text": [
      "Vector (1, -1): Ángulo en radianes: -0.7853981633974483, en grados: -45.0\n",
      "Vector (-1, -1): Ángulo en radianes: -2.356194490192345, en grados: -135.0\n",
      "Vector (-1, 1): Ángulo en radianes: 2.356194490192345, en grados: 135.0\n",
      "Vector (1, 1): Ángulo en radianes: 0.7853981633974483, en grados: 45.0\n"
     ]
    }
   ],
   "source": [
    "#Calcular el ángulo de un vector en cada cuadrante\n",
    "# Varios vectores en diferentes cuadrantes\n",
    "vectors = [(-1, 1), (-1, -1), (1, -1), (1, 1)]\n",
    "\n",
    "for y, x in vectors:\n",
    "    angle = math.atan2(y, x)\n",
    "    print(f\"Vector ({x}, {y}): Ángulo en radianes: {angle}, en grados: {math.degrees(angle)}\")\n"
   ]
  },
  {
   "cell_type": "code",
   "execution_count": 3,
   "metadata": {},
   "outputs": [
    {
     "name": "stdout",
     "output_type": "stream",
     "text": [
      "Ángulo de rotación (radianes): 0.982793723247329\n"
     ]
    }
   ],
   "source": [
    "#Calcular el ángulo de rotación para un robot\n",
    "# Coordenadas actuales y objetivo\n",
    "current_position = (0, 0)\n",
    "target_position = (2, 3)\n",
    "\n",
    "# Diferencias en las coordenadas\n",
    "dx = target_position[0] - current_position[0]\n",
    "dy = target_position[1] - current_position[1]\n",
    "\n",
    "# Ángulo de rotación hacia el objetivo\n",
    "rotation_angle = math.atan2(dy, dx)\n",
    "print(f\"Ángulo de rotación (radianes): {rotation_angle}\")  \n"
   ]
  },
  {
   "cell_type": "code",
   "execution_count": 4,
   "metadata": {},
   "outputs": [
    {
     "name": "stdout",
     "output_type": "stream",
     "text": [
      "Ángulo (radianes): 0.28379410920832787\n",
      "Ángulo (grados): 16.26020470831196\n"
     ]
    }
   ],
   "source": [
    "#Resolver un triángulo rectángulo con ángulos\n",
    "# Lados opuesto y adyacente\n",
    "opposite = 7\n",
    "adjacent = 24\n",
    "\n",
    "# Ángulo del triángulo \n",
    "angle = math.atan2(opposite, adjacent)\n",
    "print(f\"Ángulo (radianes): {angle}\")  \n",
    "print(f\"Ángulo (grados): {math.degrees(angle)}\")  \n"
   ]
  },
  {
   "cell_type": "code",
   "execution_count": 5,
   "metadata": {},
   "outputs": [
    {
     "name": "stdout",
     "output_type": "stream",
     "text": [
      "Ángulo para disparar (radianes): 0.5404195002705842\n",
      "Ángulo para disparar (grados): 30.96375653207352\n"
     ]
    }
   ],
   "source": [
    "#Visualizar la dirección de disparo en un videojuego\n",
    "# Coordenadas del jugador y enemigo\n",
    "player_pos = (5, 5)\n",
    "enemy_pos = (10, 8)\n",
    "\n",
    "# Diferencias de posición\n",
    "dx = enemy_pos[0] - player_pos[0]\n",
    "dy = enemy_pos[1] - player_pos[1]\n",
    "\n",
    "# Ángulo para apuntar al enemigo\n",
    "shooting_angle = math.atan2(dy, dx)\n",
    "print(f\"Ángulo para disparar (radianes): {shooting_angle}\")  \n",
    "print(f\"Ángulo para disparar (grados): {math.degrees(shooting_angle)}\")  \n"
   ]
  }
 ],
 "metadata": {
  "kernelspec": {
   "display_name": "Python 3",
   "language": "python",
   "name": "python3"
  },
  "language_info": {
   "codemirror_mode": {
    "name": "ipython",
    "version": 3
   },
   "file_extension": ".py",
   "mimetype": "text/x-python",
   "name": "python",
   "nbconvert_exporter": "python",
   "pygments_lexer": "ipython3",
   "version": "3.12.5"
  }
 },
 "nbformat": 4,
 "nbformat_minor": 2
}
